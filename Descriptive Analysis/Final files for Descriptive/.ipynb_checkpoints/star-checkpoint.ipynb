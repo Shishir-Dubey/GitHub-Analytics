{
 "cells": [
  {
   "cell_type": "markdown",
   "metadata": {},
   "source": [
    "# Countries which are most popular (having large no. stargazers)uses mostly which languages which gives (popularity of region and language)"
   ]
  },
  {
   "cell_type": "code",
   "execution_count": 1,
   "metadata": {
    "collapsed": false
   },
   "outputs": [
    {
     "data": {
      "text/html": [
       "<iframe id=\"igraph\" scrolling=\"no\" style=\"border:none;\" seamless=\"seamless\" src=\"https://plot.ly/~qwerty03/20.embed\" height=\"525px\" width=\"100%\"></iframe>"
      ],
      "text/plain": [
       "<plotly.tools.PlotlyDisplay object>"
      ]
     },
     "execution_count": 1,
     "metadata": {},
     "output_type": "execute_result"
    }
   ],
   "source": [
    "import plotly.plotly as py\n",
    "import pandas as pd\n",
    "\n",
    "df = pd.read_csv('file1.csv')\n",
    "\n",
    "df['text'] = df['city'] + '<br>Language-' +(df['language']).astype(str) + '<br>Stargazers-'+ (df['stargazers_count']).astype(str)+' numbers'\n",
    "limits = [(0,2),(3,10),(11,20),(21,50),(50,300)]\n",
    "colors = [\"rgb(0,116,217)\",\"rgb(255,65,54)\",\"rgb(133,20,75)\",\"rgb(255,133,27)\",\"green\"]\n",
    "Cnames = []\n",
    "scale = 1\n",
    "\n",
    "for i in range(len(limits)):\n",
    "\n",
    "    lim = limits[i]\n",
    "\n",
    "    df_sub = df[lim[0]:lim[1]]\n",
    "\n",
    "    Cname = dict(\n",
    "\n",
    "        type = 'scattergeo',\n",
    "\n",
    "        locationmode = 'IS0-3',\n",
    "\n",
    "        lon = df_sub['lon'],\n",
    "\n",
    "        lat = df_sub['lat'],\n",
    "\n",
    "        text = df_sub['text'],\n",
    "\n",
    "        marker = dict(\n",
    "\n",
    "            size = df_sub['stargazers_count']/scale,\n",
    "\n",
    "            color = colors[i],\n",
    "\n",
    "            line = dict(width=0.5, color='rgb(40,40,40)'),\n",
    "\n",
    "            sizemode = 'area'\n",
    "\n",
    "        ),\n",
    "\n",
    "        name = '{0} - {1}'.format(lim[0],lim[1]) )\n",
    "\n",
    "    Cnames.append(Cname)\n",
    "    \n",
    "    \n",
    "    \n",
    "layout = dict(\n",
    "        title = 'Total number of stargazers',\n",
    "        showlegend = True,\n",
    "        geo = dict(\n",
    "            scope='World',\n",
    "            projection=dict( type='Distance Preserving' ),\n",
    "            showland = True,\n",
    "            landcolor = 'rgb(217, 217, 217)',\n",
    "            subunitwidth=1,\n",
    "            countrywidth=1,\n",
    "            subunitcolor=\"rgb(255, 255, 255)\",\n",
    "            countrycolor=\"rgb(255, 255, 255)\"\n",
    "        ),\n",
    "    )\n",
    "\n",
    "fig = dict( data=Cnames, layout=layout )\n",
    "py.iplot( fig, validate=False, filename='stargazers' )\n",
    "\n",
    "    \n"
   ]
  },
  {
   "cell_type": "code",
   "execution_count": null,
   "metadata": {
    "collapsed": true
   },
   "outputs": [],
   "source": []
  }
 ],
 "metadata": {
  "anaconda-cloud": {},
  "kernelspec": {
   "display_name": "Python [Root]",
   "language": "python",
   "name": "Python [Root]"
  },
  "language_info": {
   "codemirror_mode": {
    "name": "ipython",
    "version": 3
   },
   "file_extension": ".py",
   "mimetype": "text/x-python",
   "name": "python",
   "nbconvert_exporter": "python",
   "pygments_lexer": "ipython3",
   "version": "3.5.2"
  }
 },
 "nbformat": 4,
 "nbformat_minor": 0
}
